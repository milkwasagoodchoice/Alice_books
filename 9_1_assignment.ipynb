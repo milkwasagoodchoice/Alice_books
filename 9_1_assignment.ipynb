{
  "cells": [
    {
      "cell_type": "markdown",
      "metadata": {
        "id": "view-in-github",
        "colab_type": "text"
      },
      "source": [
        "<a href=\"https://colab.research.google.com/github/milkwasagoodchoice/Alice_books/blob/main/9_1_assignment.ipynb\" target=\"_parent\"><img src=\"https://colab.research.google.com/assets/colab-badge.svg\" alt=\"Open In Colab\"/></a>"
      ]
    },
    {
      "cell_type": "markdown",
      "metadata": {
        "id": "oY7M_WqQy7zz"
      },
      "source": [
        "# Assignment 9.1\n",
        "\n",
        "> Replace all TODOs with your code. Do not change any other code."
      ]
    },
    {
      "cell_type": "code",
      "execution_count": 2,
      "metadata": {
        "id": "bymolQyG6lVT"
      },
      "outputs": [],
      "source": [
        "# Do not edit this cell\n",
        "\n",
        "import numpy as np\n",
        "import pandas as pd"
      ]
    },
    {
      "cell_type": "markdown",
      "metadata": {
        "id": "Jz8SYjAz0N8D"
      },
      "source": [
        "## Numpy"
      ]
    },
    {
      "cell_type": "markdown",
      "metadata": {
        "id": "IHwd1Zzby7z1"
      },
      "source": [
        "### Task 1\n",
        "\n",
        "Create a 1D numpy array with elements [1, 2, 3, 4, 5]. Do it in two different ways.\n"
      ]
    },
    {
      "cell_type": "code",
      "execution_count": 3,
      "metadata": {
        "id": "UfB0dnXHy7z2",
        "tags": [
          "task_1a"
        ],
        "outputId": "0f4e5a1a-3b7d-4c73-8142-57fc0e99ea65",
        "colab": {
          "base_uri": "https://localhost:8080/"
        }
      },
      "outputs": [
        {
          "output_type": "stream",
          "name": "stdout",
          "text": [
            "[1 2 3 4 5]\n"
          ]
        }
      ],
      "source": [
        "res = np.array([1, 2, 3, 4, 5])\n",
        "\n",
        "print(res)"
      ]
    },
    {
      "cell_type": "code",
      "execution_count": 5,
      "metadata": {
        "id": "VtHGOji2zOfq",
        "tags": [
          "task_1b"
        ],
        "outputId": "ec7a57f1-08ae-4d51-9f56-749058e2b554",
        "colab": {
          "base_uri": "https://localhost:8080/"
        }
      },
      "outputs": [
        {
          "output_type": "stream",
          "name": "stdout",
          "text": [
            "[1 2 3 4 5]\n"
          ]
        }
      ],
      "source": [
        "res2 = np.arange(1, 6)\n",
        "\n",
        "print(res2)"
      ]
    },
    {
      "cell_type": "markdown",
      "metadata": {
        "id": "lL-ELM-Ay7z2"
      },
      "source": [
        "### Task 2\n",
        "\n",
        "Create a 2D numpy array with shape (3, 5) filled with random integers between 1 and 100."
      ]
    },
    {
      "cell_type": "code",
      "execution_count": 7,
      "metadata": {
        "id": "cibiSsjry7z3",
        "tags": [
          "task_2"
        ],
        "outputId": "12871240-5e83-4c1c-fed9-5fd3bcae781d",
        "colab": {
          "base_uri": "https://localhost:8080/"
        }
      },
      "outputs": [
        {
          "output_type": "stream",
          "name": "stdout",
          "text": [
            "[[50 48 29 87 67]\n",
            " [22  9 29  5 50]\n",
            " [11 22 18 97 39]]\n"
          ]
        }
      ],
      "source": [
        "res3 = np.random.randint(1, 101, size=(3, 5))\n",
        "\n",
        "print(res3)"
      ]
    },
    {
      "cell_type": "markdown",
      "metadata": {
        "id": "Iagg2Xez6lVk"
      },
      "source": [
        "### Task 3\n",
        "\n",
        "Print the first row of array `res3`."
      ]
    },
    {
      "cell_type": "code",
      "execution_count": null,
      "metadata": {
        "tags": [
          "task_3"
        ],
        "id": "0Ug49s5l6lVm"
      },
      "outputs": [],
      "source": [
        "print(array_2d[0])"
      ]
    },
    {
      "cell_type": "markdown",
      "metadata": {
        "id": "L-qS4zMn6lVn"
      },
      "source": [
        "### Task 4\n",
        "\n",
        "Access the last column of array `res3`. Assume that the array may be of any 2D shape."
      ]
    },
    {
      "cell_type": "code",
      "execution_count": 8,
      "metadata": {
        "tags": [
          "task_4"
        ],
        "id": "XLdVpV8P6lVo",
        "outputId": "7995e47b-18d5-418c-da15-7307425293f4",
        "colab": {
          "base_uri": "https://localhost:8080/",
          "height": 156
        }
      },
      "outputs": [
        {
          "output_type": "error",
          "ename": "NameError",
          "evalue": "name 'array_2d' is not defined",
          "traceback": [
            "\u001b[0;31m---------------------------------------------------------------------------\u001b[0m",
            "\u001b[0;31mNameError\u001b[0m                                 Traceback (most recent call last)",
            "\u001b[0;32m<ipython-input-8-41c03d20bef6>\u001b[0m in \u001b[0;36m<cell line: 1>\u001b[0;34m()\u001b[0m\n\u001b[0;32m----> 1\u001b[0;31m \u001b[0mlast_column\u001b[0m \u001b[0;34m=\u001b[0m \u001b[0marray_2d\u001b[0m\u001b[0;34m[\u001b[0m\u001b[0;34m:\u001b[0m\u001b[0;34m,\u001b[0m \u001b[0;34m-\u001b[0m\u001b[0;36m1\u001b[0m\u001b[0;34m]\u001b[0m\u001b[0;34m\u001b[0m\u001b[0;34m\u001b[0m\u001b[0m\n\u001b[0m\u001b[1;32m      2\u001b[0m \u001b[0mprint\u001b[0m\u001b[0;34m(\u001b[0m\u001b[0mlast_column\u001b[0m\u001b[0;34m)\u001b[0m\u001b[0;34m\u001b[0m\u001b[0;34m\u001b[0m\u001b[0m\n",
            "\u001b[0;31mNameError\u001b[0m: name 'array_2d' is not defined"
          ]
        }
      ],
      "source": [
        "last_column = array_2d[:, -1]\n",
        "print(last_column)"
      ]
    },
    {
      "cell_type": "markdown",
      "metadata": {
        "id": "saWNjvtKy7z3"
      },
      "source": [
        "### Task 5\n",
        "\n",
        "Find the min, max, and sum of elements of the second column of array `res3`."
      ]
    },
    {
      "cell_type": "code",
      "execution_count": 10,
      "metadata": {
        "id": "V0T9Dybqy7z3",
        "tags": [
          "task_5a"
        ],
        "outputId": "7768a8bf-dfdc-4681-93b5-a1e77abc70cc",
        "colab": {
          "base_uri": "https://localhost:8080/"
        }
      },
      "outputs": [
        {
          "output_type": "stream",
          "name": "stdout",
          "text": [
            "min = 5\n"
          ]
        }
      ],
      "source": [
        "# Min\n",
        "res_min = np.min(res3)\n",
        "\n",
        "print('min =', res_min)"
      ]
    },
    {
      "cell_type": "code",
      "execution_count": null,
      "metadata": {
        "id": "cs5yNlMDy7z3",
        "tags": [
          "task_5b"
        ]
      },
      "outputs": [],
      "source": [
        "# Max\n",
        "res_max = np.max(res)\n",
        "\n",
        "print('max =', res_max)"
      ]
    },
    {
      "cell_type": "code",
      "execution_count": null,
      "metadata": {
        "id": "iCRsMwrsy7z3",
        "tags": [
          "task_5c"
        ]
      },
      "outputs": [],
      "source": [
        "# Sum\n",
        "res_max = np.sum(res)\n",
        "\n",
        "print('sum =', res_max)"
      ]
    },
    {
      "cell_type": "markdown",
      "metadata": {
        "id": "r47KggVa6lVr"
      },
      "source": [
        "### Task 6\n",
        "\n",
        "Tabulate the function\n",
        "\n",
        "$$f(x) = e^{2x}$$\n",
        "\n",
        "on interval `[0, 1]` with step 0.1.\n",
        "\n",
        "By \"tabulate\" we mean that we want to have a table (1D array), where on the first position we will have the function value for 0, on the second position 0.1, and so on."
      ]
    },
    {
      "cell_type": "code",
      "execution_count": 11,
      "metadata": {
        "tags": [
          "task_6"
        ],
        "id": "hYvk0d3i6lVs",
        "outputId": "7a02cab2-884a-4a28-c31f-c28eaa6cbb13",
        "colab": {
          "base_uri": "https://localhost:8080/"
        }
      },
      "outputs": [
        {
          "output_type": "stream",
          "name": "stdout",
          "text": [
            "[1.         1.22140276 1.4918247  1.8221188  2.22554093 2.71828183\n",
            " 3.32011692 4.05519997 4.95303242 6.04964746 7.3890561 ]\n"
          ]
        }
      ],
      "source": [
        "def f(x):\n",
        "    return np.exp(2 * x)\n",
        "\n",
        "\n",
        "x_values = np.arange(0, 1.1, 0.1)\n",
        "\n",
        "f_values = f(x_values)\n",
        "\n",
        "print(f_values)"
      ]
    },
    {
      "cell_type": "markdown",
      "metadata": {
        "id": "5DzFkKwx0VI5"
      },
      "source": [
        "## Pandas\n",
        "\n",
        "We will be working on the classic dataset for beginner data scientists: Titanic passengers."
      ]
    },
    {
      "cell_type": "markdown",
      "metadata": {
        "id": "nP0LlORsy7z4"
      },
      "source": [
        "### Task 7\n",
        "\n",
        "Load the dataset from the following URL: https://web.stanford.edu/class/cs102/datasets/Titanic.csv"
      ]
    },
    {
      "cell_type": "code",
      "execution_count": null,
      "metadata": {
        "id": "RiIm_kUSy7z4",
        "tags": [
          "task_7"
        ]
      },
      "outputs": [],
      "source": [
        "url = \"https://web.stanford.edu/class/cs102/datasets/Titanic.csv\"\n",
        "df = pd.read_csv(url)\n",
        "\n",
        "print(df.head())"
      ]
    },
    {
      "cell_type": "markdown",
      "metadata": {
        "id": "hU1yDEnzy7z4"
      },
      "source": [
        "### Task 8\n",
        "\n",
        "Let's see the series/columns present in the data frame.\n",
        "\n",
        "Also, let's inspect the first ten rows of data."
      ]
    },
    {
      "cell_type": "code",
      "execution_count": null,
      "metadata": {
        "id": "8sOSsdKiy7z4",
        "tags": [
          "task_8a"
        ]
      },
      "outputs": [],
      "source": [
        "print(\"Columns in the DataFrame:\", df.columns)\n"
      ]
    },
    {
      "cell_type": "code",
      "execution_count": null,
      "metadata": {
        "tags": [
          "task_8b"
        ],
        "id": "L1d6Yscd6lVu"
      },
      "outputs": [],
      "source": [
        "print(\"\\nFirst ten rows of the DataFrame:\")\n",
        "print(df.head(10))"
      ]
    },
    {
      "cell_type": "markdown",
      "metadata": {
        "id": "NbbRIcyqy7z4"
      },
      "source": [
        "### Task 9\n",
        "\n",
        "Add a new column - full name - it should be a concat of the first and last name."
      ]
    },
    {
      "cell_type": "code",
      "execution_count": null,
      "metadata": {
        "tags": [
          "task_9"
        ],
        "id": "DJcQPHU36lVv"
      },
      "outputs": [],
      "source": [
        "df['full name'] = df['First Name'] + ' ' + df['Last Name']\n",
        "\n",
        "print(df[['First Name', 'Last Name', 'full name']].head())"
      ]
    },
    {
      "cell_type": "markdown",
      "metadata": {
        "id": "UvRSBhXi6lVw"
      },
      "source": [
        "### Task 10\n",
        "\n",
        "Remove the two original columns - last, first."
      ]
    },
    {
      "cell_type": "code",
      "execution_count": null,
      "metadata": {
        "id": "2K8klEkzy7z4",
        "tags": [
          "task_10"
        ]
      },
      "outputs": [],
      "source": [
        "df = df.drop(columns=['First Name', 'Last Name'])\n",
        "\n",
        "print(df.head())"
      ]
    },
    {
      "cell_type": "markdown",
      "metadata": {
        "id": "A431RdWp6lVw"
      },
      "source": [
        "### Task 11\n",
        "\n",
        "Calculate the total number of survivors in the dataset."
      ]
    },
    {
      "cell_type": "code",
      "execution_count": null,
      "metadata": {
        "tags": [
          "task_11"
        ],
        "id": "meTLWpz46lVx"
      },
      "outputs": [],
      "source": [
        "df_survivors = df[df['Survived'] == 1]\n",
        "\n",
        "num_survivors = len(df_survivors)\n",
        "\n",
        "print(\"Total number of survivors:\", num_survivors)"
      ]
    }
  ],
  "metadata": {
    "colab": {
      "provenance": [],
      "toc_visible": true,
      "include_colab_link": true
    },
    "kernelspec": {
      "display_name": "venv",
      "language": "python",
      "name": "python3"
    },
    "language_info": {
      "codemirror_mode": {
        "name": "ipython",
        "version": 3
      },
      "file_extension": ".py",
      "mimetype": "text/x-python",
      "name": "python",
      "nbconvert_exporter": "python",
      "pygments_lexer": "ipython3",
      "version": "3.9.6"
    },
    "orig_nbformat": 4
  },
  "nbformat": 4,
  "nbformat_minor": 0
}