{
  "cells": [
    {
      "cell_type": "markdown",
      "metadata": {
        "id": "view-in-github",
        "colab_type": "text"
      },
      "source": [
        "<a href=\"https://colab.research.google.com/github/milkwasagoodchoice/Alice_books/blob/main/8_2_assigment.ipynb\" target=\"_parent\"><img src=\"https://colab.research.google.com/assets/colab-badge.svg\" alt=\"Open In Colab\"/></a>"
      ]
    },
    {
      "cell_type": "markdown",
      "metadata": {
        "id": "ozOVKEIKm8aP"
      },
      "source": [
        "# Assignment 8.2\n",
        "\n",
        "> Replace all TODOs with your code.\n",
        ">\n",
        "> Do not change any other code and do not add/remove cells!"
      ]
    },
    {
      "cell_type": "markdown",
      "metadata": {
        "id": "GRPST61knD1_"
      },
      "source": [
        "## Inheritance"
      ]
    },
    {
      "cell_type": "markdown",
      "metadata": {
        "id": "TIeo4PGfnH_f"
      },
      "source": [
        "### Task 1\n",
        "\n",
        "Define a base class named `Account` to a general bank account.\n",
        "\n",
        "The class should include an initialization method (`__init__`), taking into account the number and holder name and methods for depositing money to the account and withdrawing from it. Do not forget to ensure that the account never has a negative balance.\n",
        "\n",
        "String representation (`__str__`) should be an abstract method (throw a corresponding error if it is called on the base `Account` class"
      ]
    },
    {
      "cell_type": "code",
      "execution_count": null,
      "metadata": {
        "id": "es4kM6panjNB"
      },
      "outputs": [],
      "source": [
        "from abc import ABC, abstractmethod\n",
        "\n",
        "class Account(ABC):\n",
        "    def __init__(self, account_number: str, holder_name: str):\n",
        "        self.account_number = account_number\n",
        "        self.holder_name = holder_name\n",
        "        self.balance = 0.0\n",
        "\n",
        "    def deposit(self, amount: float):\n",
        "        if amount <= 0:\n",
        "            raise ValueError(\"Deposit amount must be positive.\")\n",
        "        self.balance += amount\n",
        "        print(f\"Deposited {amount}. New balance: {self.balance}\")\n",
        "\n",
        "    def withdraw(self, amount: float):\n",
        "        if amount <= 0:\n",
        "            raise ValueError(\"Withdrawal amount must be positive.\")\n",
        "        if amount > self.balance:\n",
        "            raise ValueError(\"Insufficient funds.\")\n",
        "        self.balance -= amount\n",
        "        print(f\"Withdrew {amount}. New balance: {self.balance}\")\n",
        "\n",
        "    @abstractmethod\n",
        "    def __str__(self):\n",
        "        raise NotImplementedError(\"String representation must be implemented in subclasses.\")\n"
      ]
    },
    {
      "cell_type": "markdown",
      "metadata": {
        "id": "4FjqIBbCnqh3"
      },
      "source": [
        "### Task 2\n",
        "\n",
        "Derive a `CurrentAccount` subclass from the `Account` base class and provide its own implementation for the `__str__` method. The text representation should mention the type of account, account number, and remaining balance."
      ]
    },
    {
      "cell_type": "code",
      "execution_count": null,
      "metadata": {
        "id": "VNhS9FjCr-_k"
      },
      "outputs": [],
      "source": [
        "class CurrentAccount(Account):\n",
        "    def __str__(self):\n",
        "        return f\"Current Account - Account Number: {self.account_number}, Holder: {self.holder_name}, Balance: {self.balance:.2f}\"\n",
        "\n",
        "current_account = CurrentAccount(\"12345678\", \"Alice Johnson\")\n",
        "current_account.deposit(1000.0)\n",
        "current_account.withdraw(250.0)\n",
        "print(current_account)"
      ]
    },
    {
      "cell_type": "markdown",
      "metadata": {
        "id": "h-CdQzoOtjy6"
      },
      "source": [
        "### Task 3\n",
        "\n",
        "Derive a `SavingsAccount` subclass from the `Account` base class and provide its implementation for the `__str__` method. When initializing objects of this class, the caller must provide the `interest_rate` parameter.\n",
        "\n",
        " The text representation should mention the type of account, interest rate, account number, and remaining balance.\n",
        "\n",
        "Provide additional method `add_interest` that adds interest based on `interest_rate`:\n",
        "$$new\\_balance = old\\_balance + old\\_balance * interest\\_rate$$"
      ]
    },
    {
      "cell_type": "code",
      "execution_count": null,
      "metadata": {
        "id": "akQXzV_vtweO"
      },
      "outputs": [],
      "source": [
        "class SavingsAccount(Account):\n",
        "    def __init__(self, account_number: str, holder_name: str, interest_rate: float):\n",
        "        super().__init__(account_number, holder_name)\n",
        "        self.interest_rate = interest_rate\n",
        "\n",
        "    def __str__(self):\n",
        "        return f\"Savings Account - Account Number: {self.account_number}, Holder: {self.holder_name}, Interest Rate: {self.interest_rate:.2f}%, Balance: {self.balance:.2f}\"\n",
        "\n",
        "    def add_interest(self):\n",
        "        interest = self.balance * (self.interest_rate / 100)\n",
        "        self.balance += interest\n",
        "        print(f\"Interest added: {interest:.2f}. New balance: {self.balance:.2f}\")\n",
        "\n",
        "savings_account = SavingsAccount(\"98765432\", \"Bob Smith\", 5.0)\n",
        "savings_account.deposit(1000.0)\n",
        "print(savings_account)\n",
        "savings_account.add_interest()\n",
        "print(savings_account)"
      ]
    },
    {
      "cell_type": "markdown",
      "metadata": {
        "id": "724_WyJry8i9"
      },
      "source": [
        "### Task 4\n",
        "\n",
        "Create an array with different accounts, add/withdraw money from some of them, iterate over the array, and print the text representation of each."
      ]
    },
    {
      "cell_type": "code",
      "execution_count": null,
      "metadata": {
        "id": "BDZA3L25zZEo"
      },
      "outputs": [],
      "source": [
        "accounts = []\n",
        "\n",
        "accounts = [\n",
        "    CurrentAccount(\"12345678\", \"Alice Johnson\"),\n",
        "    SavingsAccount(\"98765432\", \"Bob Smith\", 5.0),\n",
        "    CurrentAccount(\"87654321\", \"Charlie Brown\"),\n",
        "    SavingsAccount(\"11223344\", \"Daisy White\", 3.0)\n",
        "]\n",
        "\n",
        "accounts[0].deposit(1000.0)\n",
        "accounts[1].deposit(1500.0)\n",
        "accounts[1].add_interest()\n",
        "accounts[2].withdraw(500.0)\n",
        "accounts[3].deposit(2000.0)\n",
        "\n",
        "for account in accounts:\n",
        "    print(account)\n"
      ]
    }
  ],
  "metadata": {
    "colab": {
      "provenance": [],
      "toc_visible": true,
      "include_colab_link": true
    },
    "kernelspec": {
      "display_name": "Python 3",
      "name": "python3"
    },
    "language_info": {
      "name": "python"
    }
  },
  "nbformat": 4,
  "nbformat_minor": 0
}